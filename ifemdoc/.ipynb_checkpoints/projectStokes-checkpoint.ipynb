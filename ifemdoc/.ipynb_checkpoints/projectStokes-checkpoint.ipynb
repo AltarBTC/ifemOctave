{
 "cells": [
  {
   "cell_type": "markdown",
   "metadata": {},
   "source": [
    "# Project: Finite Element for Stokes Equations\n",
    "\n",
    "The purpose of this project is to implement simple and popular finite\n",
    "element methods for solving Stokes equations in two dimensions."
   ]
  },
  {
   "cell_type": "markdown",
   "metadata": {},
   "source": [
    "## Part I: Finite Element Methods: isoP2-P0 element\n",
    "\n",
    "Given a triangulation `(node,elem)`, the velocity space is the linear\n",
    "finite element space on the uniform refinement of `(node,elem)` and the pressure is piecewise constant space on the current mesh.\n",
    "\n",
    "### Step 1: Data Structure\n",
    "Given mesh will be refered as a coarse grid"
   ]
  },
  {
   "cell_type": "code",
   "execution_count": 1,
   "metadata": {},
   "outputs": [
    {
     "data": {
      "image/png": "[encoded data removed]",
      "text/plain": [
       "<IPython.core.display.Image object>"
      ]
     },
     "metadata": {},
     "output_type": "display_data"
    }
   ],
   "source": [
    "[node,elem] = squaremesh([-1,1,-1,1],0.25);\n",
    "NTc = size(elem,1);\n",
    "% Uniform refinement to a fine grid\n",
    "[node,elem] = uniformrefine(node,elem);\n",
    "showmesh(node,elem);"
   ]
  },
  {
   "cell_type": "markdown",
   "metadata": {},
   "source": [
    "In the `uniformrefine`, the new elements are added in such an order that\n",
    "triangles `(t, NTc + t, 2*NTc + t, 3*NTc + t)` are refined from the same\n",
    "parent, where `NTc` is the number of triangles in the coarse grid."
   ]
  },
  {
   "cell_type": "markdown",
   "metadata": {},
   "source": [
    "### Step 2: Form the matrix equation for Laplacian\n",
    "\n",
    "Call your code for linear finite element methods. You can merge two\n",
    "copies of Laplacian using `blkdiag`."
   ]
  },
  {
   "cell_type": "markdown",
   "metadata": {},
   "source": [
    "### Step 3: Form the matrix for the divergence operator\n",
    "\n",
    "Compute $\\nabla \\lambda_i$ on the fine grid \n",
    "\n",
    "    [Dlambda,area] = gradbasis(node,elem);\n",
    "\n",
    "Assemble sparse matrices for divergence operator on the fine grid by\n",
    "computing $\\int_t \\nabla \\lambda_i dx$.\n",
    "\n",
    "Merge four terms in the above matrix to compute the divergence operator\n",
    "on the coarse grid\n",
    "$$\\int_{t\\cup NTc + t\\cup  2NTc + t\\cup 3NTc + t} \\,  \\nabla \\lambda_i\\, dx.$$"
   ]
  },
  {
   "cell_type": "markdown",
   "metadata": {},
   "source": [
    "### Step 4: Boundary conditions\n",
    "\n",
    "Modify the right hand side to include Dirichlet or Neumann boundary\n",
    "conditions. It is the same as the Poisson equation. Just repeat for each\n",
    "component. For non-homogenous Dirichlet boundary condition, you need to\n",
    "modify the continunity equation too. Recoard freeDof."
   ]
  },
  {
   "cell_type": "markdown",
   "metadata": {},
   "source": [
    "### Step 4: Solve the linear system\n",
    "\n",
    "Form a big matrix `bigA = [A B'; B sparse(Np,Np)]` and use the\n",
    "direct solver to solve `bigA(bigFreeDof,bigFreeDof)\\bigF(bigFreeDof)`\n",
    "\n",
    "Since the pressure is unique up to a constant, you need to eliminate the\n",
    "constant kernel by not including one component of pressure vector in the\n",
    "`bigFreeDof`. After you get the solution, you need to modify p such that\n",
    "its weighted mean value is zero."
   ]
  },
  {
   "cell_type": "markdown",
   "metadata": {},
   "source": [
    "## Part II: Finite Element Methods: nonforming P1-P0 element\n",
    "\n",
    "\n",
    "### Step 1: Data Structure\n",
    "Since the unknowns are associated to edges, you need to generate edges\n",
    "and more importantly the indices map from a triangle to global indices of\n",
    "its three edges.  The edges are labled such that the i-th edge is\n",
    "opposite to the i-th vertex for i=1,2,3."
   ]
  },
  {
   "cell_type": "code",
   "execution_count": 2,
   "metadata": {},
   "outputs": [
    {
     "name": "stdout",
     "output_type": "stream",
     "text": [
      "         420          34          35\n",
      "         426          39          41\n",
      "         432          45          47\n",
      "\n"
     ]
    }
   ],
   "source": [
    "[elem2edge,edge] = dofedge(elem);\n",
    "disp(elem2edge(1:3,:));"
   ]
  },
  {
   "cell_type": "markdown",
   "metadata": {},
   "source": [
    "### Step 2: Form the matrix equation\n",
    "\n",
    "Figure out the basis of CR element using the barycenteric coordinates. \n",
    "\n",
    "Call your code for linear finite element methods in Part I with the\n",
    "correct correction to CR element.\n",
    "\n",
    "Compute the righ hand side using three middle point rule. It is even\n",
    "simplier than linear element case."
   ]
  },
  {
   "cell_type": "markdown",
   "metadata": {},
   "source": [
    "### Step 3: Boundary conditions\n",
    "\n",
    "Similar as in the linear element case. Just be careful on the Dirichlet\n",
    "boundary condition, you need to evaluate g_D at middle points of boundary\n",
    "edges.\n",
    "\n",
    "To find out the boundary edges, use\n",
    "\n",
    "    s = accumarray(elem2edge(:), 1, [size(edge,1) 1]);\n",
    "\n",
    "Then `idx = (s==1)` is the index of boundary edges and the set for `(s==2)` is interiori (free) edges.\n",
    "\n",
    "### Step 4: Solve the linear system\n",
    "\n",
    "Same as the first Part."
   ]
  },
  {
   "cell_type": "markdown",
   "metadata": {},
   "source": [
    "## Test Example\n",
    "\n",
    "We use a simple model of colliding flow with analytic solutions to test\n",
    "the code. The domain is $[-1,1]^2$ and the analytic solution is:\n",
    "\n",
    "$$u = 20xy^3; v = 5x^4 - 5y^4; \\quad p = 60x^2y - 20y^3 + constant.$$\n",
    "\n",
    "Compute the data f and Dirichlet boundary condition g_D and solve Stokes\n",
    "equation on the unit square using methods in Part I,II and check the\n",
    "rate of convergence."
   ]
  }
 ],
 "metadata": {
  "kernelspec": {
   "display_name": "Matlab",
   "language": "matlab",
   "name": "matlab"
  },
  "language_info": {
   "codemirror_mode": "octave",
   "file_extension": ".m",
   "help_links": [
    {
     "text": "MetaKernel Magics",
     "url": "https://github.com/calysto/metakernel/blob/master/metakernel/magics/README.md"
    }
   ],
   "mimetype": "text/x-matlab",
   "name": "matlab",
   "version": "0.14.3"
  },
  "toc": {
   "colors": {
    "hover_highlight": "#DAA520",
    "navigate_num": "#000000",
    "navigate_text": "#333333",
    "running_highlight": "#FF0000",
    "selected_highlight": "#FFD700",
    "sidebar_border": "#EEEEEE",
    "wrapper_background": "#FFFFFF"
   },
   "moveMenuLeft": true,
   "nav_menu": {
    "height": "246px",
    "width": "252px"
   },
   "navigate_menu": true,
   "number_sections": false,
   "sideBar": true,
   "threshold": 4,
   "toc_cell": false,
   "toc_section_display": "block",
   "toc_window_display": true,
   "widenNotebook": false
  }
 },
 "nbformat": 4,
 "nbformat_minor": 2
}
